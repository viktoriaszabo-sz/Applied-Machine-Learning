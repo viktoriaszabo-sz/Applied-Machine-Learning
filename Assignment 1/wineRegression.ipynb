{
 "cells": [
  {
   "cell_type": "markdown",
   "metadata": {},
   "source": [
    "## Staging"
   ]
  },
  {
   "cell_type": "code",
   "execution_count": 34,
   "metadata": {},
   "outputs": [],
   "source": [
    "import pandas as pd\n",
    "import numpy as np\n",
    "import matplotlib.pyplot as plt"
   ]
  },
  {
   "cell_type": "code",
   "execution_count": 35,
   "metadata": {},
   "outputs": [],
   "source": [
    "df = pd.read_csv('winequality-red.csv')"
   ]
  },
  {
   "cell_type": "code",
   "execution_count": 36,
   "metadata": {},
   "outputs": [
    {
     "name": "stdout",
     "output_type": "stream",
     "text": [
      "<class 'pandas.core.frame.DataFrame'>\n",
      "RangeIndex: 1599 entries, 0 to 1598\n",
      "Data columns (total 12 columns):\n",
      " #   Column                Non-Null Count  Dtype  \n",
      "---  ------                --------------  -----  \n",
      " 0   fixed acidity         1599 non-null   float64\n",
      " 1   volatile acidity      1599 non-null   float64\n",
      " 2   citric acid           1599 non-null   float64\n",
      " 3   residual sugar        1599 non-null   float64\n",
      " 4   chlorides             1599 non-null   float64\n",
      " 5   free sulfur dioxide   1599 non-null   float64\n",
      " 6   total sulfur dioxide  1599 non-null   float64\n",
      " 7   density               1599 non-null   float64\n",
      " 8   pH                    1599 non-null   float64\n",
      " 9   sulphates             1599 non-null   float64\n",
      " 10  alcohol               1599 non-null   float64\n",
      " 11  quality               1599 non-null   int64  \n",
      "dtypes: float64(11), int64(1)\n",
      "memory usage: 150.0 KB\n"
     ]
    }
   ],
   "source": [
    "df.info()"
   ]
  },
  {
   "cell_type": "code",
   "execution_count": 37,
   "metadata": {},
   "outputs": [
    {
     "data": {
      "text/html": [
       "<div>\n",
       "<style scoped>\n",
       "    .dataframe tbody tr th:only-of-type {\n",
       "        vertical-align: middle;\n",
       "    }\n",
       "\n",
       "    .dataframe tbody tr th {\n",
       "        vertical-align: top;\n",
       "    }\n",
       "\n",
       "    .dataframe thead th {\n",
       "        text-align: right;\n",
       "    }\n",
       "</style>\n",
       "<table border=\"1\" class=\"dataframe\">\n",
       "  <thead>\n",
       "    <tr style=\"text-align: right;\">\n",
       "      <th></th>\n",
       "      <th>fixed acidity</th>\n",
       "      <th>volatile acidity</th>\n",
       "      <th>citric acid</th>\n",
       "      <th>residual sugar</th>\n",
       "      <th>chlorides</th>\n",
       "      <th>free sulfur dioxide</th>\n",
       "      <th>total sulfur dioxide</th>\n",
       "      <th>density</th>\n",
       "      <th>pH</th>\n",
       "      <th>sulphates</th>\n",
       "      <th>alcohol</th>\n",
       "      <th>quality</th>\n",
       "    </tr>\n",
       "  </thead>\n",
       "  <tbody>\n",
       "    <tr>\n",
       "      <th>count</th>\n",
       "      <td>1599.000000</td>\n",
       "      <td>1599.000000</td>\n",
       "      <td>1599.000000</td>\n",
       "      <td>1599.000000</td>\n",
       "      <td>1599.000000</td>\n",
       "      <td>1599.000000</td>\n",
       "      <td>1599.000000</td>\n",
       "      <td>1599.000000</td>\n",
       "      <td>1599.000000</td>\n",
       "      <td>1599.000000</td>\n",
       "      <td>1599.000000</td>\n",
       "      <td>1599.000000</td>\n",
       "    </tr>\n",
       "    <tr>\n",
       "      <th>mean</th>\n",
       "      <td>8.319637</td>\n",
       "      <td>0.527821</td>\n",
       "      <td>0.270976</td>\n",
       "      <td>2.538806</td>\n",
       "      <td>0.087467</td>\n",
       "      <td>15.874922</td>\n",
       "      <td>46.467792</td>\n",
       "      <td>0.996747</td>\n",
       "      <td>3.311113</td>\n",
       "      <td>0.658149</td>\n",
       "      <td>10.422983</td>\n",
       "      <td>5.636023</td>\n",
       "    </tr>\n",
       "    <tr>\n",
       "      <th>std</th>\n",
       "      <td>1.741096</td>\n",
       "      <td>0.179060</td>\n",
       "      <td>0.194801</td>\n",
       "      <td>1.409928</td>\n",
       "      <td>0.047065</td>\n",
       "      <td>10.460157</td>\n",
       "      <td>32.895324</td>\n",
       "      <td>0.001887</td>\n",
       "      <td>0.154386</td>\n",
       "      <td>0.169507</td>\n",
       "      <td>1.065668</td>\n",
       "      <td>0.807569</td>\n",
       "    </tr>\n",
       "    <tr>\n",
       "      <th>min</th>\n",
       "      <td>4.600000</td>\n",
       "      <td>0.120000</td>\n",
       "      <td>0.000000</td>\n",
       "      <td>0.900000</td>\n",
       "      <td>0.012000</td>\n",
       "      <td>1.000000</td>\n",
       "      <td>6.000000</td>\n",
       "      <td>0.990070</td>\n",
       "      <td>2.740000</td>\n",
       "      <td>0.330000</td>\n",
       "      <td>8.400000</td>\n",
       "      <td>3.000000</td>\n",
       "    </tr>\n",
       "    <tr>\n",
       "      <th>25%</th>\n",
       "      <td>7.100000</td>\n",
       "      <td>0.390000</td>\n",
       "      <td>0.090000</td>\n",
       "      <td>1.900000</td>\n",
       "      <td>0.070000</td>\n",
       "      <td>7.000000</td>\n",
       "      <td>22.000000</td>\n",
       "      <td>0.995600</td>\n",
       "      <td>3.210000</td>\n",
       "      <td>0.550000</td>\n",
       "      <td>9.500000</td>\n",
       "      <td>5.000000</td>\n",
       "    </tr>\n",
       "    <tr>\n",
       "      <th>50%</th>\n",
       "      <td>7.900000</td>\n",
       "      <td>0.520000</td>\n",
       "      <td>0.260000</td>\n",
       "      <td>2.200000</td>\n",
       "      <td>0.079000</td>\n",
       "      <td>14.000000</td>\n",
       "      <td>38.000000</td>\n",
       "      <td>0.996750</td>\n",
       "      <td>3.310000</td>\n",
       "      <td>0.620000</td>\n",
       "      <td>10.200000</td>\n",
       "      <td>6.000000</td>\n",
       "    </tr>\n",
       "    <tr>\n",
       "      <th>75%</th>\n",
       "      <td>9.200000</td>\n",
       "      <td>0.640000</td>\n",
       "      <td>0.420000</td>\n",
       "      <td>2.600000</td>\n",
       "      <td>0.090000</td>\n",
       "      <td>21.000000</td>\n",
       "      <td>62.000000</td>\n",
       "      <td>0.997835</td>\n",
       "      <td>3.400000</td>\n",
       "      <td>0.730000</td>\n",
       "      <td>11.100000</td>\n",
       "      <td>6.000000</td>\n",
       "    </tr>\n",
       "    <tr>\n",
       "      <th>max</th>\n",
       "      <td>15.900000</td>\n",
       "      <td>1.580000</td>\n",
       "      <td>1.000000</td>\n",
       "      <td>15.500000</td>\n",
       "      <td>0.611000</td>\n",
       "      <td>72.000000</td>\n",
       "      <td>289.000000</td>\n",
       "      <td>1.003690</td>\n",
       "      <td>4.010000</td>\n",
       "      <td>2.000000</td>\n",
       "      <td>14.900000</td>\n",
       "      <td>8.000000</td>\n",
       "    </tr>\n",
       "  </tbody>\n",
       "</table>\n",
       "</div>"
      ],
      "text/plain": [
       "       fixed acidity  volatile acidity  citric acid  residual sugar  \\\n",
       "count    1599.000000       1599.000000  1599.000000     1599.000000   \n",
       "mean        8.319637          0.527821     0.270976        2.538806   \n",
       "std         1.741096          0.179060     0.194801        1.409928   \n",
       "min         4.600000          0.120000     0.000000        0.900000   \n",
       "25%         7.100000          0.390000     0.090000        1.900000   \n",
       "50%         7.900000          0.520000     0.260000        2.200000   \n",
       "75%         9.200000          0.640000     0.420000        2.600000   \n",
       "max        15.900000          1.580000     1.000000       15.500000   \n",
       "\n",
       "         chlorides  free sulfur dioxide  total sulfur dioxide      density  \\\n",
       "count  1599.000000          1599.000000           1599.000000  1599.000000   \n",
       "mean      0.087467            15.874922             46.467792     0.996747   \n",
       "std       0.047065            10.460157             32.895324     0.001887   \n",
       "min       0.012000             1.000000              6.000000     0.990070   \n",
       "25%       0.070000             7.000000             22.000000     0.995600   \n",
       "50%       0.079000            14.000000             38.000000     0.996750   \n",
       "75%       0.090000            21.000000             62.000000     0.997835   \n",
       "max       0.611000            72.000000            289.000000     1.003690   \n",
       "\n",
       "                pH    sulphates      alcohol      quality  \n",
       "count  1599.000000  1599.000000  1599.000000  1599.000000  \n",
       "mean      3.311113     0.658149    10.422983     5.636023  \n",
       "std       0.154386     0.169507     1.065668     0.807569  \n",
       "min       2.740000     0.330000     8.400000     3.000000  \n",
       "25%       3.210000     0.550000     9.500000     5.000000  \n",
       "50%       3.310000     0.620000    10.200000     6.000000  \n",
       "75%       3.400000     0.730000    11.100000     6.000000  \n",
       "max       4.010000     2.000000    14.900000     8.000000  "
      ]
     },
     "execution_count": 37,
     "metadata": {},
     "output_type": "execute_result"
    }
   ],
   "source": [
    "df.describe()"
   ]
  },
  {
   "cell_type": "code",
   "execution_count": 38,
   "metadata": {},
   "outputs": [
    {
     "data": {
      "text/html": [
       "<div>\n",
       "<style scoped>\n",
       "    .dataframe tbody tr th:only-of-type {\n",
       "        vertical-align: middle;\n",
       "    }\n",
       "\n",
       "    .dataframe tbody tr th {\n",
       "        vertical-align: top;\n",
       "    }\n",
       "\n",
       "    .dataframe thead th {\n",
       "        text-align: right;\n",
       "    }\n",
       "</style>\n",
       "<table border=\"1\" class=\"dataframe\">\n",
       "  <thead>\n",
       "    <tr style=\"text-align: right;\">\n",
       "      <th></th>\n",
       "      <th>fixed acidity</th>\n",
       "      <th>volatile acidity</th>\n",
       "      <th>citric acid</th>\n",
       "      <th>residual sugar</th>\n",
       "      <th>chlorides</th>\n",
       "      <th>free sulfur dioxide</th>\n",
       "      <th>total sulfur dioxide</th>\n",
       "      <th>density</th>\n",
       "      <th>pH</th>\n",
       "      <th>sulphates</th>\n",
       "      <th>alcohol</th>\n",
       "      <th>quality</th>\n",
       "    </tr>\n",
       "  </thead>\n",
       "  <tbody>\n",
       "    <tr>\n",
       "      <th>0</th>\n",
       "      <td>7.4</td>\n",
       "      <td>0.70</td>\n",
       "      <td>0.00</td>\n",
       "      <td>1.9</td>\n",
       "      <td>0.076</td>\n",
       "      <td>11.0</td>\n",
       "      <td>34.0</td>\n",
       "      <td>0.9978</td>\n",
       "      <td>3.51</td>\n",
       "      <td>0.56</td>\n",
       "      <td>9.4</td>\n",
       "      <td>5</td>\n",
       "    </tr>\n",
       "    <tr>\n",
       "      <th>1</th>\n",
       "      <td>7.8</td>\n",
       "      <td>0.88</td>\n",
       "      <td>0.00</td>\n",
       "      <td>2.6</td>\n",
       "      <td>0.098</td>\n",
       "      <td>25.0</td>\n",
       "      <td>67.0</td>\n",
       "      <td>0.9968</td>\n",
       "      <td>3.20</td>\n",
       "      <td>0.68</td>\n",
       "      <td>9.8</td>\n",
       "      <td>5</td>\n",
       "    </tr>\n",
       "    <tr>\n",
       "      <th>2</th>\n",
       "      <td>7.8</td>\n",
       "      <td>0.76</td>\n",
       "      <td>0.04</td>\n",
       "      <td>2.3</td>\n",
       "      <td>0.092</td>\n",
       "      <td>15.0</td>\n",
       "      <td>54.0</td>\n",
       "      <td>0.9970</td>\n",
       "      <td>3.26</td>\n",
       "      <td>0.65</td>\n",
       "      <td>9.8</td>\n",
       "      <td>5</td>\n",
       "    </tr>\n",
       "    <tr>\n",
       "      <th>3</th>\n",
       "      <td>11.2</td>\n",
       "      <td>0.28</td>\n",
       "      <td>0.56</td>\n",
       "      <td>1.9</td>\n",
       "      <td>0.075</td>\n",
       "      <td>17.0</td>\n",
       "      <td>60.0</td>\n",
       "      <td>0.9980</td>\n",
       "      <td>3.16</td>\n",
       "      <td>0.58</td>\n",
       "      <td>9.8</td>\n",
       "      <td>6</td>\n",
       "    </tr>\n",
       "    <tr>\n",
       "      <th>4</th>\n",
       "      <td>7.4</td>\n",
       "      <td>0.70</td>\n",
       "      <td>0.00</td>\n",
       "      <td>1.9</td>\n",
       "      <td>0.076</td>\n",
       "      <td>11.0</td>\n",
       "      <td>34.0</td>\n",
       "      <td>0.9978</td>\n",
       "      <td>3.51</td>\n",
       "      <td>0.56</td>\n",
       "      <td>9.4</td>\n",
       "      <td>5</td>\n",
       "    </tr>\n",
       "  </tbody>\n",
       "</table>\n",
       "</div>"
      ],
      "text/plain": [
       "   fixed acidity  volatile acidity  citric acid  residual sugar  chlorides  \\\n",
       "0            7.4              0.70         0.00             1.9      0.076   \n",
       "1            7.8              0.88         0.00             2.6      0.098   \n",
       "2            7.8              0.76         0.04             2.3      0.092   \n",
       "3           11.2              0.28         0.56             1.9      0.075   \n",
       "4            7.4              0.70         0.00             1.9      0.076   \n",
       "\n",
       "   free sulfur dioxide  total sulfur dioxide  density    pH  sulphates  \\\n",
       "0                 11.0                  34.0   0.9978  3.51       0.56   \n",
       "1                 25.0                  67.0   0.9968  3.20       0.68   \n",
       "2                 15.0                  54.0   0.9970  3.26       0.65   \n",
       "3                 17.0                  60.0   0.9980  3.16       0.58   \n",
       "4                 11.0                  34.0   0.9978  3.51       0.56   \n",
       "\n",
       "   alcohol  quality  \n",
       "0      9.4        5  \n",
       "1      9.8        5  \n",
       "2      9.8        5  \n",
       "3      9.8        6  \n",
       "4      9.4        5  "
      ]
     },
     "execution_count": 38,
     "metadata": {},
     "output_type": "execute_result"
    }
   ],
   "source": [
    "df.head()"
   ]
  },
  {
   "cell_type": "code",
   "execution_count": 39,
   "metadata": {},
   "outputs": [],
   "source": [
    "df.drop('quality', axis=1, inplace=True) # Dropping \"quality\" as it doesn't affect the alcohol%"
   ]
  },
  {
   "cell_type": "code",
   "execution_count": 40,
   "metadata": {},
   "outputs": [
    {
     "data": {
      "text/html": [
       "<div>\n",
       "<style scoped>\n",
       "    .dataframe tbody tr th:only-of-type {\n",
       "        vertical-align: middle;\n",
       "    }\n",
       "\n",
       "    .dataframe tbody tr th {\n",
       "        vertical-align: top;\n",
       "    }\n",
       "\n",
       "    .dataframe thead th {\n",
       "        text-align: right;\n",
       "    }\n",
       "</style>\n",
       "<table border=\"1\" class=\"dataframe\">\n",
       "  <thead>\n",
       "    <tr style=\"text-align: right;\">\n",
       "      <th></th>\n",
       "      <th>fixed acidity</th>\n",
       "      <th>volatile acidity</th>\n",
       "      <th>citric acid</th>\n",
       "      <th>residual sugar</th>\n",
       "      <th>chlorides</th>\n",
       "      <th>free sulfur dioxide</th>\n",
       "      <th>total sulfur dioxide</th>\n",
       "      <th>density</th>\n",
       "      <th>pH</th>\n",
       "      <th>sulphates</th>\n",
       "      <th>alcohol</th>\n",
       "    </tr>\n",
       "  </thead>\n",
       "  <tbody>\n",
       "    <tr>\n",
       "      <th>0</th>\n",
       "      <td>7.4</td>\n",
       "      <td>0.70</td>\n",
       "      <td>0.00</td>\n",
       "      <td>1.9</td>\n",
       "      <td>0.076</td>\n",
       "      <td>11.0</td>\n",
       "      <td>34.0</td>\n",
       "      <td>0.9978</td>\n",
       "      <td>3.51</td>\n",
       "      <td>0.56</td>\n",
       "      <td>9.4</td>\n",
       "    </tr>\n",
       "    <tr>\n",
       "      <th>1</th>\n",
       "      <td>7.8</td>\n",
       "      <td>0.88</td>\n",
       "      <td>0.00</td>\n",
       "      <td>2.6</td>\n",
       "      <td>0.098</td>\n",
       "      <td>25.0</td>\n",
       "      <td>67.0</td>\n",
       "      <td>0.9968</td>\n",
       "      <td>3.20</td>\n",
       "      <td>0.68</td>\n",
       "      <td>9.8</td>\n",
       "    </tr>\n",
       "    <tr>\n",
       "      <th>2</th>\n",
       "      <td>7.8</td>\n",
       "      <td>0.76</td>\n",
       "      <td>0.04</td>\n",
       "      <td>2.3</td>\n",
       "      <td>0.092</td>\n",
       "      <td>15.0</td>\n",
       "      <td>54.0</td>\n",
       "      <td>0.9970</td>\n",
       "      <td>3.26</td>\n",
       "      <td>0.65</td>\n",
       "      <td>9.8</td>\n",
       "    </tr>\n",
       "    <tr>\n",
       "      <th>3</th>\n",
       "      <td>11.2</td>\n",
       "      <td>0.28</td>\n",
       "      <td>0.56</td>\n",
       "      <td>1.9</td>\n",
       "      <td>0.075</td>\n",
       "      <td>17.0</td>\n",
       "      <td>60.0</td>\n",
       "      <td>0.9980</td>\n",
       "      <td>3.16</td>\n",
       "      <td>0.58</td>\n",
       "      <td>9.8</td>\n",
       "    </tr>\n",
       "    <tr>\n",
       "      <th>4</th>\n",
       "      <td>7.4</td>\n",
       "      <td>0.70</td>\n",
       "      <td>0.00</td>\n",
       "      <td>1.9</td>\n",
       "      <td>0.076</td>\n",
       "      <td>11.0</td>\n",
       "      <td>34.0</td>\n",
       "      <td>0.9978</td>\n",
       "      <td>3.51</td>\n",
       "      <td>0.56</td>\n",
       "      <td>9.4</td>\n",
       "    </tr>\n",
       "  </tbody>\n",
       "</table>\n",
       "</div>"
      ],
      "text/plain": [
       "   fixed acidity  volatile acidity  citric acid  residual sugar  chlorides  \\\n",
       "0            7.4              0.70         0.00             1.9      0.076   \n",
       "1            7.8              0.88         0.00             2.6      0.098   \n",
       "2            7.8              0.76         0.04             2.3      0.092   \n",
       "3           11.2              0.28         0.56             1.9      0.075   \n",
       "4            7.4              0.70         0.00             1.9      0.076   \n",
       "\n",
       "   free sulfur dioxide  total sulfur dioxide  density    pH  sulphates  \\\n",
       "0                 11.0                  34.0   0.9978  3.51       0.56   \n",
       "1                 25.0                  67.0   0.9968  3.20       0.68   \n",
       "2                 15.0                  54.0   0.9970  3.26       0.65   \n",
       "3                 17.0                  60.0   0.9980  3.16       0.58   \n",
       "4                 11.0                  34.0   0.9978  3.51       0.56   \n",
       "\n",
       "   alcohol  \n",
       "0      9.4  \n",
       "1      9.8  \n",
       "2      9.8  \n",
       "3      9.8  \n",
       "4      9.4  "
      ]
     },
     "execution_count": 40,
     "metadata": {},
     "output_type": "execute_result"
    }
   ],
   "source": [
    "df.head()"
   ]
  },
  {
   "cell_type": "code",
   "execution_count": 41,
   "metadata": {},
   "outputs": [],
   "source": [
    "from sklearn.model_selection import train_test_split\n",
    "\n",
    "X = df.drop('alcohol', axis=1) # Dropping \"alcohol\" to separate it from the other variables\n",
    "y = df['alcohol']\n",
    "\n",
    "X_train, X_test, y_train, y_test = train_test_split(X, y, test_size=0.2, random_state=42)"
   ]
  },
  {
   "cell_type": "code",
   "execution_count": 42,
   "metadata": {},
   "outputs": [],
   "source": [
    "from sklearn.preprocessing import StandardScaler\n",
    "\n",
    "scaler = StandardScaler()\n",
    "X_train_scaled = scaler.fit_transform(X_train)\n",
    "X_test_scaled = scaler.transform(X_test)"
   ]
  },
  {
   "cell_type": "code",
   "execution_count": 43,
   "metadata": {},
   "outputs": [
    {
     "name": "stdout",
     "output_type": "stream",
     "text": [
      "(1279, 10)\n",
      "(320, 10)\n",
      "Index(['fixed acidity', 'volatile acidity', 'citric acid', 'residual sugar',\n",
      "       'chlorides', 'free sulfur dioxide', 'total sulfur dioxide', 'density',\n",
      "       'pH', 'sulphates'],\n",
      "      dtype='object')\n",
      "Index(['fixed acidity', 'volatile acidity', 'citric acid', 'residual sugar',\n",
      "       'chlorides', 'free sulfur dioxide', 'total sulfur dioxide', 'density',\n",
      "       'pH', 'sulphates'],\n",
      "      dtype='object')\n"
     ]
    }
   ],
   "source": [
    "# Checking the features to be evaluated against \"alcohol\"\n",
    "\n",
    "print(X_train.shape)\n",
    "print(X_test.shape)\n",
    "print(X_train.columns)\n",
    "print(X_test.columns)"
   ]
  },
  {
   "cell_type": "markdown",
   "metadata": {},
   "source": [
    "## Linear Regression - Veronika"
   ]
  },
  {
   "cell_type": "code",
   "execution_count": 44,
   "metadata": {},
   "outputs": [
    {
     "name": "stdout",
     "output_type": "stream",
     "text": [
      "Linear Regression MSE: 0.36575886331548685\n",
      "Linear Regression R2: 0.7062008191713984\n"
     ]
    }
   ],
   "source": [
    "from sklearn.linear_model import LinearRegression\n",
    "from sklearn.metrics import mean_squared_error, r2_score\n",
    "\n",
    "# SCALED\n",
    "\n",
    "linearModel = LinearRegression()\n",
    "linearModel.fit(X_train_scaled, y_train)\n",
    "\n",
    "yPredLinear = linearModel.predict(X_test_scaled)\n",
    "mseLinear = mean_squared_error(y_test, yPredLinear)\n",
    "r2Linear = r2_score(y_test, yPredLinear)\n",
    "\n",
    "\n",
    "print(\"Linear Regression MSE:\", mseLinear)\n",
    "print(\"Linear Regression R2:\", r2Linear)"
   ]
  },
  {
   "cell_type": "code",
   "execution_count": 45,
   "metadata": {},
   "outputs": [
    {
     "name": "stdout",
     "output_type": "stream",
     "text": [
      "Linear Regression MSE with no scaling: 0.36575886331548985\n",
      "Linear Regression R2 with no scaling: 0.7062008191713961\n"
     ]
    }
   ],
   "source": [
    "# NONSCALED\n",
    "\n",
    "linearModelNoScale = LinearRegression()\n",
    "linearModelNoScale.fit(X_train, y_train)  # Fit on unscaled data\n",
    "\n",
    "yPredLinearNoScale = linearModelNoScale.predict(X_test)\n",
    "\n",
    "mseLinearNoScale = mean_squared_error(y_test, yPredLinearNoScale)\n",
    "r2LinearNoScale = r2_score(y_test, yPredLinearNoScale)\n",
    "\n",
    "\n",
    "print(\"Linear Regression MSE with no scaling:\", mseLinearNoScale)\n",
    "print(\"Linear Regression R2 with no scaling:\", r2LinearNoScale)\n"
   ]
  },
  {
   "cell_type": "markdown",
   "metadata": {},
   "source": [
    "#### Interestingly enough, with and without standard scaling produces the same results (almost)"
   ]
  },
  {
   "cell_type": "code",
   "execution_count": 46,
   "metadata": {},
   "outputs": [
    {
     "data": {
      "image/png": "[encoded data removed]",
      "text/plain": [
       "<Figure size 1000x600 with 1 Axes>"
      ]
     },
     "metadata": {},
     "output_type": "display_data"
    }
   ],
   "source": [
    "plt.figure(figsize=(10, 6))\n",
    "plt.scatter(y_test, yPredLinear, alpha=0.5)\n",
    "plt.plot([y_test.min(), y_test.max()], [y_test.min(), y_test.max()], 'k--', lw=2) \n",
    "plt.xlabel('Actual Alcohol %')\n",
    "plt.ylabel('Predicted Alcohol %')\n",
    "plt.title('Actual vs. Predicted Alcohol Content - Linear Regression')\n",
    "plt.show()"
   ]
  },
  {
   "cell_type": "markdown",
   "metadata": {},
   "source": [
    "## Schotastic Gradient Descent Regressor - Viktória"
   ]
  },
  {
   "cell_type": "code",
   "execution_count": 62,
   "metadata": {},
   "outputs": [
    {
     "name": "stdout",
     "output_type": "stream",
     "text": [
      "Test MSE scaled: 0.3883180868610484\n",
      "Test R2: 0.6880799147653216\n"
     ]
    }
   ],
   "source": [
    "from sklearn.linear_model import SGDRegressor\n",
    "\n",
    "# SCALED\n",
    "\n",
    "sgdRegressor = SGDRegressor(eta0 = 0.1, random_state=42) \n",
    "sgdRegressor.fit(X_train_scaled, y_train)\n",
    "\n",
    "y_pred = sgdRegressor.predict(X_test_scaled)\n",
    "\n",
    "mseTestSgdScaled = mean_squared_error(y_test, y_pred)\n",
    "r2TestSgdScaled = r2_score(y_test, y_pred)\n",
    "\n",
    "print(\"Test MSE scaled:\", mseTestSgdScaled)\n",
    "print(\"Test R2:\", r2TestSgdScaled)"
   ]
  },
  {
   "cell_type": "code",
   "execution_count": 63,
   "metadata": {},
   "outputs": [
    {
     "name": "stdout",
     "output_type": "stream",
     "text": [
      "Test MSE: 1.4239904887197272\n"
     ]
    }
   ],
   "source": [
    "# NONSCALED\n",
    "\n",
    "sgdRegressorNoScale = SGDRegressor(eta0 = 0.001, random_state=42) \n",
    "sgdRegressorNoScale.fit(X_train, y_train)\n",
    "\n",
    "y_pred = sgdRegressorNoScale.predict(X_test)\n",
    "\n",
    "mseTestSgdNoScale = mean_squared_error(y_test, y_pred)\n",
    "\n",
    "\n",
    "print(\"Test MSE:\", mseTestSgdNoScale)\n",
    "\n",
    "# No need for R2 because MSE score is already incredible as it is "
   ]
  },
  {
   "cell_type": "code",
   "execution_count": 49,
   "metadata": {},
   "outputs": [
    {
     "data": {
      "text/plain": [
       "{'eta0': 0.001}"
      ]
     },
     "execution_count": 49,
     "metadata": {},
     "output_type": "execute_result"
    }
   ],
   "source": [
    "from sklearn.model_selection import GridSearchCV # Checking for the best possible eta score\n",
    "\n",
    "param_grid = [  {'eta0': [0.001, 0.002, 0.01, 0.02]}   ]\n",
    "\n",
    "sgd_regressor = SGDRegressor()\n",
    "gridsearch = GridSearchCV(sgd_regressor, param_grid, cv=5, scoring='neg_mean_squared_error', return_train_score=True)\n",
    "\n",
    "gridsearch.fit(X, y)\n",
    "gridsearch.best_params_"
   ]
  },
  {
   "cell_type": "markdown",
   "metadata": {},
   "source": [
    "## Learning curves - Veronika"
   ]
  },
  {
   "cell_type": "code",
   "execution_count": 50,
   "metadata": {},
   "outputs": [
    {
     "data": {
      "image/png": "[encoded data removed]",
      "text/plain": [
       "<Figure size 600x400 with 1 Axes>"
      ]
     },
     "metadata": {},
     "output_type": "display_data"
    }
   ],
   "source": [
    "from sklearn.model_selection import learning_curve\n",
    "\n",
    "train_sizes, train_scores, valid_scores = learning_curve(LinearRegression(),\n",
    "                                                         X, y, train_sizes=np.linspace(0.01, 1.0, 40), cv=5,\n",
    "                                                         scoring=\"neg_root_mean_squared_error\")\n",
    "train_errors = -train_scores.mean(axis=1)\n",
    "valid_errors = -valid_scores.mean(axis=1)\n",
    "\n",
    "plt.figure(figsize=(6, 4)) \n",
    "plt.plot(train_sizes/X.shape[0]*100, train_errors, \"r-+\", linewidth=2, label=\"train\")\n",
    "plt.plot(train_sizes/X.shape[0]*100, valid_errors, \"b-\", linewidth=3, label=\"valid\")\n",
    "\n",
    "\n",
    "plt.xlabel(\"Training set size\")\n",
    "plt.ylabel(\"RMSE\")\n",
    "plt.grid()\n",
    "plt.legend(loc=\"upper right\")\n",
    "plt.axis([0, 80, 0, 2.5])\n",
    "\n",
    "plt.show()"
   ]
  },
  {
   "cell_type": "code",
   "execution_count": 51,
   "metadata": {},
   "outputs": [
    {
     "data": {
      "image/png": "[encoded data removed]",
      "text/plain": [
       "<Figure size 600x400 with 1 Axes>"
      ]
     },
     "metadata": {},
     "output_type": "display_data"
    }
   ],
   "source": [
    "train_sizes, train_scores, valid_scores = learning_curve(SGDRegressor(eta0 = 0.0001),\n",
    "                                                         X, y, train_sizes=np.linspace(0.01, 1.0, 40), cv=8,\n",
    "                                                         scoring=\"neg_root_mean_squared_error\")\n",
    "train_errors = -train_scores.mean(axis=1)\n",
    "valid_errors = -valid_scores.mean(axis=1)\n",
    "\n",
    "plt.figure(figsize=(6, 4)) \n",
    "plt.plot(train_sizes/X.shape[0]*100, train_errors, \"r-+\", linewidth=2, label=\"train\")\n",
    "plt.plot(train_sizes/X.shape[0]*100, valid_errors, \"b-\", linewidth=3, label=\"valid\")\n",
    "\n",
    "\n",
    "plt.xlabel(\"Training set size\")\n",
    "plt.ylabel(\"RMSE\")\n",
    "plt.grid()\n",
    "plt.legend(loc=\"upper right\")\n",
    "plt.axis([0, 90, 0, 2.5])\n",
    "\n",
    "plt.show()"
   ]
  },
  {
   "cell_type": "markdown",
   "metadata": {},
   "source": [
    "## Polynomial Regression - Roy"
   ]
  },
  {
   "cell_type": "code",
   "execution_count": 52,
   "metadata": {},
   "outputs": [
    {
     "name": "stdout",
     "output_type": "stream",
     "text": [
      "Polynomial MSE score: 0.35288866867037877\n",
      "Polynomial R2 score: 0.7165389217386516\n"
     ]
    }
   ],
   "source": [
    "from sklearn.preprocessing import PolynomialFeatures\n",
    "\n",
    "# SCALED\n",
    "\n",
    "poly_features = PolynomialFeatures(degree=2, include_bias=False)\n",
    "X_train_poly = poly_features.fit_transform(X_train_scaled)\n",
    "X_test_poly = poly_features.transform(X_test_scaled)\n",
    "\n",
    "poly_model = LinearRegression()\n",
    "poly_model.fit(X_train_poly, y_train)\n",
    "\n",
    "y_pred_poly = poly_model.predict(X_test_poly)\n",
    "\n",
    "msePoly = mean_squared_error(y_test, y_pred_poly)\n",
    "r2Poly = r2_score(y_test, y_pred_poly)\n",
    "\n",
    "print(\"Polynomial MSE score:\", msePoly)\n",
    "print(\"Polynomial R2 score:\", r2Poly) \n"
   ]
  },
  {
   "cell_type": "markdown",
   "metadata": {},
   "source": [
    "## Lasso Regression - Roy"
   ]
  },
  {
   "cell_type": "code",
   "execution_count": 65,
   "metadata": {},
   "outputs": [
    {
     "name": "stdout",
     "output_type": "stream",
     "text": [
      "Test MSE: 0.36579605624370054\n",
      "Test R2: 0.706170943608732\n"
     ]
    }
   ],
   "source": [
    "from sklearn.linear_model import Lasso\n",
    "\n",
    "# SCALED\n",
    "\n",
    "lasso = Lasso(alpha = 0.0001, random_state=42)\n",
    "lasso.fit(X_train_scaled, y_train)\n",
    "\n",
    "y_pred = lasso.predict(X_test_scaled)\n",
    "\n",
    "mseLasso = mean_squared_error(y_test, y_pred)\n",
    "r2Lasso = r2_score(y_test, y_pred)\n",
    "\n",
    "print(\"Test MSE:\", mseLasso)\n",
    "print(\"Test R2:\", r2Lasso)"
   ]
  },
  {
   "cell_type": "code",
   "execution_count": 67,
   "metadata": {},
   "outputs": [
    {
     "data": {
      "text/plain": [
       "{'alpha': 0.0001}"
      ]
     },
     "execution_count": 67,
     "metadata": {},
     "output_type": "execute_result"
    }
   ],
   "source": [
    "from sklearn.model_selection import GridSearchCV\n",
    "\n",
    "param_grid = [{'alpha': [0.0001, 0.001, 0.01, 0.1, 1, 10]}]\n",
    "\n",
    "lasso = Lasso()\n",
    "\n",
    "gridsearch = GridSearchCV(lasso, param_grid, cv=5, scoring='neg_mean_squared_error', return_train_score=True)\n",
    "\n",
    "gridsearch.fit(X, y)\n",
    "\n",
    "gridsearch.best_params_"
   ]
  },
  {
   "cell_type": "code",
   "execution_count": 66,
   "metadata": {},
   "outputs": [
    {
     "data": {
      "text/plain": [
       "array([ 0.87699341,  0.06249825,  0.17194365,  0.40275067, -0.08546016,\n",
       "       -0.02932245, -0.07999626, -1.11695151,  0.579467  ,  0.2197284 ])"
      ]
     },
     "execution_count": 66,
     "metadata": {},
     "output_type": "execute_result"
    }
   ],
   "source": [
    "lasso.coef_"
   ]
  },
  {
   "cell_type": "markdown",
   "metadata": {},
   "source": [
    "## LassoCV Regression - Keita"
   ]
  },
  {
   "cell_type": "code",
   "execution_count": 56,
   "metadata": {},
   "outputs": [
    {
     "name": "stdout",
     "output_type": "stream",
     "text": [
      "Test MSE: 0.3659527452198771\n",
      "Test R2: 0.7060450817432717\n",
      "Alpha: 0.0005053576101930851\n"
     ]
    }
   ],
   "source": [
    "from sklearn.linear_model import LassoCV\n",
    "\n",
    "# SCALED\n",
    "\n",
    "lassoCV = LassoCV(cv=10, random_state=42)\n",
    "lassoCV.fit(X_train_scaled, y_train)\n",
    "\n",
    "y_pred = lassoCV.predict(X_test_scaled)\n",
    "\n",
    "mseLassoCV = mean_squared_error(y_test, y_pred)\n",
    "r2LassoCV = r2_score(y_test, y_pred)\n",
    "\n",
    "print(\"Test MSE:\", mseLassoCV)\n",
    "print(\"Test R2:\", r2LassoCV)\n",
    "print(\"Alpha:\", lassoCV.alpha_)"
   ]
  },
  {
   "cell_type": "code",
   "execution_count": 57,
   "metadata": {},
   "outputs": [
    {
     "data": {
      "text/plain": [
       "array([ 0.87430986,  0.06102387,  0.17108066,  0.40168251, -0.0850336 ,\n",
       "       -0.02890983, -0.0801204 , -1.11452955,  0.57770911,  0.21880009])"
      ]
     },
     "execution_count": 57,
     "metadata": {},
     "output_type": "execute_result"
    }
   ],
   "source": [
    "lassoCV.coef_"
   ]
  },
  {
   "cell_type": "markdown",
   "metadata": {},
   "source": [
    "## Polynomial LassoCV Regression - Keita"
   ]
  },
  {
   "cell_type": "code",
   "execution_count": 58,
   "metadata": {},
   "outputs": [
    {
     "name": "stdout",
     "output_type": "stream",
     "text": [
      "Test MSE: 0.327922502832857\n",
      "Test R2: 0.7365932247431096\n",
      "Best alpha: 0.005785655540125649\n"
     ]
    }
   ],
   "source": [
    "from sklearn.linear_model import LassoCV\n",
    "\n",
    "\n",
    "polyLasso = LassoCV(cv=10, random_state=42)\n",
    "polyLasso.fit(X_train_poly, y_train)\n",
    "\n",
    "# Predicting on test data with polynomial Lasso model\n",
    "y_pred_lasso_poly = polyLasso.predict(X_test_poly)\n",
    "\n",
    "# Calculate metrics for polynomial Lasso regression\n",
    "mseLassoPoly = mean_squared_error(y_test, y_pred_lasso_poly)\n",
    "r2LassoPoly = r2_score(y_test, y_pred_lasso_poly)\n",
    "\n",
    "print(\"Test MSE:\", mseLassoPoly)\n",
    "print(\"Test R2:\", r2LassoPoly)\n",
    "print(\"Best alpha:\", polyLasso.alpha_)\n"
   ]
  },
  {
   "cell_type": "code",
   "execution_count": 59,
   "metadata": {},
   "outputs": [
    {
     "data": {
      "text/plain": [
       "array([ 7.16244622e-01,  1.80995514e-02,  1.25804451e-01,  6.55620224e-01,\n",
       "       -0.00000000e+00,  0.00000000e+00, -9.60459117e-02, -1.03013612e+00,\n",
       "        4.48932156e-01,  2.49371399e-01, -3.84952810e-02,  7.93023567e-02,\n",
       "        0.00000000e+00,  6.13343476e-02,  0.00000000e+00, -0.00000000e+00,\n",
       "        0.00000000e+00, -0.00000000e+00,  0.00000000e+00,  0.00000000e+00,\n",
       "       -1.55744741e-02, -3.28890464e-02, -4.79110621e-02, -2.59714210e-02,\n",
       "       -0.00000000e+00, -1.21704059e-02,  8.86815222e-02,  5.89503486e-02,\n",
       "        0.00000000e+00,  7.02028088e-02,  1.22648283e-02, -3.58233794e-02,\n",
       "       -5.67297051e-02, -1.64280601e-02,  0.00000000e+00, -0.00000000e+00,\n",
       "        0.00000000e+00, -7.25494705e-02,  4.51459571e-02, -5.27531639e-02,\n",
       "       -0.00000000e+00, -1.91073464e-02,  5.03676065e-02, -0.00000000e+00,\n",
       "       -1.31544901e-03,  1.85961158e-02, -0.00000000e+00,  0.00000000e+00,\n",
       "       -1.02858184e-02, -5.90220544e-03,  0.00000000e+00, -2.33095668e-02,\n",
       "        8.30578705e-02, -0.00000000e+00,  7.82709135e-03,  1.07040285e-02,\n",
       "        0.00000000e+00, -9.99735300e-04,  3.58395365e-02,  1.06410413e-01,\n",
       "       -4.65127879e-02, -3.76996785e-02,  6.06043016e-03, -0.00000000e+00,\n",
       "       -2.98849293e-02])"
      ]
     },
     "execution_count": 59,
     "metadata": {},
     "output_type": "execute_result"
    }
   ],
   "source": [
    "polyLasso.coef_"
   ]
  },
  {
   "cell_type": "code",
   "execution_count": 60,
   "metadata": {},
   "outputs": [
    {
     "name": "stdout",
     "output_type": "stream",
     "text": [
      "fixed acidity: 0.7162446224409107\n",
      "volatile acidity: 0.018099551445687877\n",
      "citric acid: 0.12580445110739918\n",
      "residual sugar: 0.655620223529969\n",
      "chlorides: -0.0\n",
      "free sulfur dioxide: 0.0\n",
      "total sulfur dioxide: -0.09604591173795397\n",
      "density: -1.0301361200945363\n",
      "pH: 0.44893215599468345\n",
      "sulphates: 0.2493713989363897\n",
      "fixed acidity^2: -0.03849528104919339\n",
      "fixed acidity volatile acidity: 0.07930235670617017\n",
      "fixed acidity citric acid: 0.0\n",
      "fixed acidity residual sugar: 0.06133434756203903\n",
      "fixed acidity chlorides: 0.0\n",
      "fixed acidity free sulfur dioxide: -0.0\n",
      "fixed acidity total sulfur dioxide: 0.0\n",
      "fixed acidity density: -0.0\n",
      "fixed acidity pH: 0.0\n",
      "fixed acidity sulphates: 0.0\n",
      "volatile acidity^2: -0.015574474106059664\n",
      "volatile acidity citric acid: -0.03288904642859831\n",
      "volatile acidity residual sugar: -0.0479110620912219\n",
      "volatile acidity chlorides: -0.025971420977713773\n",
      "volatile acidity free sulfur dioxide: -0.0\n",
      "volatile acidity total sulfur dioxide: -0.012170405912244536\n",
      "volatile acidity density: 0.08868152217481376\n",
      "volatile acidity pH: 0.05895034862377829\n",
      "volatile acidity sulphates: 0.0\n",
      "citric acid^2: 0.07020280884264421\n",
      "citric acid residual sugar: 0.012264828260201806\n",
      "citric acid chlorides: -0.03582337940671671\n",
      "citric acid free sulfur dioxide: -0.05672970511793144\n",
      "citric acid total sulfur dioxide: -0.016428060133414274\n",
      "citric acid density: 0.0\n",
      "citric acid pH: -0.0\n",
      "citric acid sulphates: 0.0\n",
      "residual sugar^2: -0.07254947054000899\n",
      "residual sugar chlorides: 0.04514595708652383\n",
      "residual sugar free sulfur dioxide: -0.05275316388434948\n",
      "residual sugar total sulfur dioxide: -0.0\n",
      "residual sugar density: -0.019107346368467136\n",
      "residual sugar pH: 0.050367606455559606\n",
      "residual sugar sulphates: -0.0\n",
      "chlorides^2: -0.001315449009537219\n",
      "chlorides free sulfur dioxide: 0.018596115837227985\n",
      "chlorides total sulfur dioxide: -0.0\n",
      "chlorides density: 0.0\n",
      "chlorides pH: -0.010285818360056058\n",
      "chlorides sulphates: -0.005902205438601567\n",
      "free sulfur dioxide^2: 0.0\n",
      "free sulfur dioxide total sulfur dioxide: -0.02330956677060295\n",
      "free sulfur dioxide density: 0.08305787052592918\n",
      "free sulfur dioxide pH: -0.0\n",
      "free sulfur dioxide sulphates: 0.007827091346346779\n",
      "total sulfur dioxide^2: 0.010704028514910672\n",
      "total sulfur dioxide density: 0.0\n",
      "total sulfur dioxide pH: -0.0009997352999855864\n",
      "total sulfur dioxide sulphates: 0.03583953648952808\n",
      "density^2: 0.1064104132954878\n",
      "density pH: -0.04651278785898432\n",
      "density sulphates: -0.037699678487425524\n",
      "pH^2: 0.006060430162872018\n",
      "pH sulphates: -0.0\n",
      "sulphates^2: -0.02988492933444472\n"
     ]
    }
   ],
   "source": [
    "original_features = [col for col in df.columns if col != 'alcohol']\n",
    "poly = PolynomialFeatures(degree=2, include_bias=False)\n",
    "\n",
    "# Only transform the original features, excluding the target variable\n",
    "poly_features = poly.fit_transform(df[original_features])\n",
    "feature_names = poly.get_feature_names_out(input_features=original_features)\n",
    "\n",
    "coefficients = polyLasso.coef_\n",
    "\n",
    "# Match coefficients to their feature names\n",
    "feature_coefficients = dict(zip(feature_names, coefficients.flatten()))\n",
    "\n",
    "for feature, coef in feature_coefficients.items():\n",
    "    print(f\"{feature}: {coef}\")"
   ]
  },
  {
   "cell_type": "markdown",
   "metadata": {},
   "source": [
    "## Summary of scores - Viktória"
   ]
  },
  {
   "cell_type": "code",
   "execution_count": 61,
   "metadata": {},
   "outputs": [
    {
     "name": "stdout",
     "output_type": "stream",
     "text": [
      "Linear Regression MSE: 0.36575886331548685\n",
      "Linear Regression R2: 0.7062008191713984\n",
      "---------\n",
      "SGD Regressor MSE scaled: 0.3883180868610484\n",
      "SGD Regressor R2 scaled: 0.6880799147653216\n",
      "SGD Regressor MSE non-scaled 1.4239904887197272\n",
      "---------\n",
      "Polynomial MSE: 0.35288866867037877\n",
      "Polynomial R2: 0.7165389217386516\n",
      "---------\n",
      "Lasso MSE: 0.36579605624370054\n",
      "Lasso R2: 0.706170943608732\n",
      "---------\n",
      "LassoCV MSE: 0.3659527452198771\n",
      "LassoCV R2: 0.7060450817432717\n",
      "---------\n",
      "Poly LassoCV MSE: 0.327922502832857\n",
      "Poly LassoCV R2: 0.7365932247431096\n"
     ]
    }
   ],
   "source": [
    "print(\"Linear Regression MSE:\", mseLinear)\n",
    "print(\"Linear Regression R2:\", r2Linear)\n",
    "\n",
    "print(\"---------\")\n",
    "\n",
    "print(\"SGD Regressor MSE scaled:\", mseTestSgdScaled)\n",
    "print(\"SGD Regressor R2 scaled:\", r2TestSgdScaled)\n",
    "print(\"SGD Regressor MSE non-scaled\", mseTestSgdNoScale)\n",
    "\n",
    "print(\"---------\")\n",
    "\n",
    "print(\"Polynomial MSE:\", msePoly)\n",
    "print(\"Polynomial R2:\", r2Poly) \n",
    "\n",
    "print(\"---------\")\n",
    "\n",
    "print(\"Lasso MSE:\", mseLasso)\n",
    "print(\"Lasso R2:\", r2Lasso)\n",
    "\n",
    "print(\"---------\")\n",
    "\n",
    "print(\"LassoCV MSE:\", mseLassoCV)\n",
    "print(\"LassoCV R2:\", r2LassoCV)\n",
    "\n",
    "print(\"---------\")\n",
    "\n",
    "print(\"Poly LassoCV MSE:\", mseLassoPoly)\n",
    "print(\"Poly LassoCV R2:\", r2LassoPoly)"
   ]
  },
  {
   "cell_type": "code",
   "execution_count": null,
   "metadata": {},
   "outputs": [],
   "source": []
  }
 ],
 "metadata": {
  "kernelspec": {
   "display_name": "Python 3",
   "language": "python",
   "name": "python3"
  },
  "language_info": {
   "codemirror_mode": {
    "name": "ipython",
    "version": 3
   },
   "file_extension": ".py",
   "mimetype": "text/x-python",
   "name": "python",
   "nbconvert_exporter": "python",
   "pygments_lexer": "ipython3",
   "version": "3.12.2"
  }
 },
 "nbformat": 4,
 "nbformat_minor": 2
}
